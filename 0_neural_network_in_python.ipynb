{
  "nbformat": 4,
  "nbformat_minor": 0,
  "metadata": {
    "colab": {
      "name": "0_NEURAL_NETWORK_IN_PYTHON.ipynb",
      "provenance": [],
      "collapsed_sections": [
        "5jpCIUqQHpN7",
        "MhnTBIc0mF6-",
        "vU8dOkg1nvYg",
        "zp_fzW-an79j",
        "k7_co_giow9b",
        "HjEY-HMDHUbV",
        "-yU_zmrdHeJ1"
      ],
      "authorship_tag": "ABX9TyOsniRSU/UEecpCqJAgWvxM",
      "include_colab_link": true
    },
    "kernelspec": {
      "name": "python3",
      "display_name": "Python 3"
    }
  },
  "cells": [
    {
      "cell_type": "markdown",
      "metadata": {
        "id": "view-in-github",
        "colab_type": "text"
      },
      "source": [
        "<a href=\"https://colab.research.google.com/gist/Santiago-Valencia/cd314deec616202e4cbe1ca81708e146/0_neural_network_in_python.ipynb\" target=\"_parent\"><img src=\"https://colab.research.google.com/assets/colab-badge.svg\" alt=\"Open In Colab\"/></a>"
      ]
    },
    {
      "cell_type": "code",
      "metadata": {
        "id": "8ymyJb56kfX_"
      },
      "source": [
        "import numpy as np\n",
        "import scipy as sc\n",
        "import matplotlib.pyplot as plt\n",
        "\n",
        "from sklearn.datasets import make_circles"
      ],
      "execution_count": 1,
      "outputs": []
    },
    {
      "cell_type": "markdown",
      "metadata": {
        "id": "5jpCIUqQHpN7"
      },
      "source": [
        "#**DATA SET**"
      ]
    },
    {
      "cell_type": "code",
      "metadata": {
        "id": "-WYUi9QNznFx",
        "outputId": "86c2d48d-7557-4a0f-ad9c-4fa9d49e8884",
        "colab": {
          "base_uri": "https://localhost:8080/",
          "height": 265
        }
      },
      "source": [
        "# CREAR EL DATASET\n",
        "n = 500     #Número de registro de los datos\n",
        "p = 2       #Características sobre el registro\n",
        "X, Y = make_circles(n_samples=n, factor=0.5, noise=0.05)\n",
        "\n",
        "plt.scatter(X[Y==0,0], X[Y==0,1], c=\"skyblue\")\n",
        "plt.scatter(X[Y==1,0], X[Y==1,1], c=\"salmon\")\n",
        "plt.axis(\"equal\")\n",
        "plt.grid(True)\n",
        "\n",
        "plt.show()\n",
        "\n",
        "Y = Y.reshape(500,1)"
      ],
      "execution_count": 2,
      "outputs": [
        {
          "output_type": "display_data",
          "data": {
            "image/png": "[encoded data removed]",
            "text/plain": [
              "<Figure size 432x288 with 1 Axes>"
            ]
          },
          "metadata": {
            "tags": [],
            "needs_background": "light"
          }
        }
      ]
    },
    {
      "cell_type": "markdown",
      "metadata": {
        "id": "MhnTBIc0mF6-"
      },
      "source": [
        "#**CLASE DE LA CAPA DE LA RED**\n",
        "\n",
        "---\n",
        "\n",
        "\"neural_layer\" permite crear una clase en la cual se crean matrices de bias ($b_{i}$) y matrices de pesos ($w_{j,i}$)con valores aleatorios entre -1 y 1. Donde ${i}$ representa el numero de neuronas (n_neur) de una capa ${L}$ y ${j}$ representa el numero de nodos previos (n_conn).\n",
        "\n",
        "\n",
        "\n",
        "\n"
      ]
    },
    {
      "cell_type": "code",
      "metadata": {
        "id": "3bCNl-RCVxdz"
      },
      "source": [
        "\n",
        "class neural_layer():\n",
        "  def __init__(self, n_conn, n_neur, act_f):\n",
        "\n",
        "    self.act_f = act_f\n",
        "    self.b = np.random.rand(1, n_neur)     *2 -1\n",
        "    self.w = np.random.rand(n_conn, n_neur)*2 -1"
      ],
      "execution_count": 3,
      "outputs": []
    },
    {
      "cell_type": "markdown",
      "metadata": {
        "id": "vU8dOkg1nvYg"
      },
      "source": [
        "#**FUNCIÓN DE ACTIVACIÓN SIGMOIDE**\n",
        "\n",
        "---"
      ]
    },
    {
      "cell_type": "code",
      "metadata": {
        "id": "8-40-bs2Wxtu",
        "outputId": "2893600c-a53a-49f3-a8d4-67fab81ef979",
        "colab": {
          "base_uri": "https://localhost:8080/",
          "height": 265
        }
      },
      "source": [
        "#FUNCIONES DE ACTIVACION\n",
        "\n",
        "sigm = (lambda x: 1 / (1 + np.e**(-x)),\n",
        "        lambda x: x*(1-x))\n",
        "\n",
        "\n",
        "_x = np.linspace(-5,5,100)\n",
        "plt.plot(_x, sigm[0](_x))\n",
        "plt.grid(True)\n",
        "\n",
        "plt.show()"
      ],
      "execution_count": 4,
      "outputs": [
        {
          "output_type": "display_data",
          "data": {
            "image/png": "[encoded data removed]",
            "text/plain": [
              "<Figure size 432x288 with 1 Axes>"
            ]
          },
          "metadata": {
            "tags": [],
            "needs_background": "light"
          }
        }
      ]
    },
    {
      "cell_type": "markdown",
      "metadata": {
        "id": "zp_fzW-an79j"
      },
      "source": [
        "#**FUNCIÓN DE CREACIÓN DE LA RED NEURONAL (ARQUITECTURA COMO TENSOR)**\n",
        "\n",
        "---\n",
        "\n"
      ]
    },
    {
      "cell_type": "code",
      "metadata": {
        "id": "YTQW_YjpXslu"
      },
      "source": [
        "def create_nn(topology, act_f):\n",
        "\n",
        "  nn = []\n",
        "\n",
        "  for l, layer in enumerate(topology[:-1]):\n",
        "\n",
        "    nn.append(neural_layer(topology[l], topology[l+1], act_f))\n",
        "\n",
        "  # print(nn[0].w)\n",
        "\n",
        "  return nn\n",
        "\n",
        "# topology = [p, 4, 8, 16, 8, 4, 1]\n",
        "# neural_net = create_nn(topology, sigm)"
      ],
      "execution_count": 5,
      "outputs": []
    },
    {
      "cell_type": "markdown",
      "metadata": {
        "id": "k7_co_giow9b"
      },
      "source": [
        "#**FUNCION DE COSTE O ERROR**"
      ]
    },
    {
      "cell_type": "code",
      "metadata": {
        "id": "jIwClIB2bMNl"
      },
      "source": [
        "l2_cost = (lambda Yp, Yr: np.mean((Yp - Yr)**2),\n",
        "           lambda Yp, Yr: (Yp - Yr))"
      ],
      "execution_count": 6,
      "outputs": []
    },
    {
      "cell_type": "markdown",
      "metadata": {
        "id": "HjEY-HMDHUbV"
      },
      "source": [
        "#**FUNCION DE ENTRENAMIENTO**"
      ]
    },
    {
      "cell_type": "code",
      "metadata": {
        "id": "xuj0df6xgC9U"
      },
      "source": [
        "def train(neural_net, X, Y, l2_cost, lr=0.5, train=True):\n",
        "\n",
        "  # Forward pass:\n",
        "  # Se evalua desde la primera capa hasta la ultima los valores\n",
        "  # de entrada a cada capa encontrar las salidas de cada capa.\n",
        "  # Existen l + 1 salidas de l capas en la red neuronal (neural_net).\n",
        "\n",
        "  out = [(None, X)]\n",
        "\n",
        "  for l, layer in enumerate(neural_net):\n",
        "\n",
        "    z = out[-1][1] @ neural_net[l].w + neural_net[l].b\n",
        "    a = neural_net[l].act_f[0](z)\n",
        "\n",
        "    out.append((z, a))\n",
        "\n",
        "  # El \"forward pass\" puede ser usado tanto para entrenar a la red \n",
        "  # como para predecir un valor dado, por lo que \"train=True\" permite\n",
        "  # entrenar a la red ejecutando el resto del codigo.\n",
        "\n",
        "  if train:\n",
        "\n",
        "    # Backward pass\n",
        "    deltas = []\n",
        "\n",
        "    for l in reversed(range(0, len(neural_net))):\n",
        "    \n",
        "      z = out[l+1][0]\n",
        "      a = out[l+1][1]\n",
        "\n",
        "      if l == len(neural_net) -1:\n",
        "        #Calcular delta última capa\n",
        "\n",
        "        deltas.insert(0, l2_cost[1](a, Y)*neural_net[l].act_f[1](a))\n",
        "      else:\n",
        "        #Calcular delta capa previa\n",
        "\n",
        "        deltas.insert(0, deltas[0]@neural_net[l+1].w.T * neural_net[l].act_f[1](a))\n",
        "\n",
        "      _w = neural_net[l]\n",
        "      #Gradient descent\n",
        "      neural_net[l].b = neural_net[l].b - lr*np.mean(deltas[0], axis=0, keepdims=True)\n",
        "      neural_net[l].w = neural_net[l].w - lr* out[l][1].T@deltas[0]\n",
        "\n",
        "      # print('out = ', out[l][1].T.shape)\n",
        "      # print('delta =', deltas[0].shape)\n",
        "      # print(out[l][1].T@deltas[0])\n",
        "      # print('')\n",
        "  return out[-1][1]\n"
      ],
      "execution_count": 7,
      "outputs": []
    },
    {
      "cell_type": "code",
      "metadata": {
        "id": "tR5j-JlyCuip"
      },
      "source": [
        "# topology=[p, 4, 8, 1]\n",
        "# neural_n = create_nn(topology, sigm)\n",
        "# train(neural_n, X, Y, l2_cost, lr=0.01);"
      ],
      "execution_count": 8,
      "outputs": []
    },
    {
      "cell_type": "markdown",
      "metadata": {
        "id": "-yU_zmrdHeJ1"
      },
      "source": [
        "#**MODELO**"
      ]
    },
    {
      "cell_type": "code",
      "metadata": {
        "id": "NxBMY1Xw8EZG",
        "outputId": "743dd212-8f5e-416d-f2c0-02869739c201",
        "colab": {
          "base_uri": "https://localhost:8080/",
          "height": 517
        }
      },
      "source": [
        "topology=[p, 4, 8, 1]\n",
        "\n",
        "import time\n",
        "from IPython.display import clear_output\n",
        "\n",
        "neural_n = create_nn(topology, sigm)\n",
        "\n",
        "loss = []\n",
        "\n",
        "for i in range(2500):\n",
        "\n",
        "  pY = train(neural_n, X, Y, l2_cost, lr=0.01)\n",
        "\n",
        "  if i % 25 == 0:\n",
        "\n",
        "    loss.append(l2_cost[0](pY, Y))\n",
        "\n",
        "    res = 50\n",
        "\n",
        "    _x0 = np.linspace(-1.5, 1.5, res)\n",
        "    _x1 = np.linspace(-1.5, 1.5, res)\n",
        "\n",
        "    _Y = np.zeros((res, res))\n",
        "\n",
        "    for i0, x0 in enumerate(_x0):\n",
        "      for i1, x1 in enumerate(_x1):\n",
        "        _Y[i0, i1] = train(neural_n, np.array([[x0, x1]]), Y, l2_cost, train=False)[0][0]\n",
        "\n",
        "    plt.pcolormesh(_x0, _x1, _Y, cmap='coolwarm')\n",
        "    plt.axis('equal')\n",
        "\n",
        "    plt.scatter(X[Y[:,0] == 0, 0], X[Y[:,0] == 0, 1], c='skyblue')\n",
        "    plt.scatter(X[Y[:,0] == 1, 0], X[Y[:,0] == 1, 1], c='salmon')\n",
        "\n",
        "    clear_output(wait=True)\n",
        "    plt.show()\n",
        "    plt.plot(range(len(loss)), loss)\n",
        "    plt.show()\n",
        "    time.sleep(0.5)"
      ],
      "execution_count": 9,
      "outputs": [
        {
          "output_type": "display_data",
          "data": {
            "image/png": "[encoded data removed]",
            "text/plain": [
              "<Figure size 432x288 with 1 Axes>"
            ]
          },
          "metadata": {
            "tags": [],
            "needs_background": "light"
          }
        },
        {
          "output_type": "display_data",
          "data": {
            "image/png": "[encoded data removed]",
            "text/plain": [
              "<Figure size 432x288 with 1 Axes>"
            ]
          },
          "metadata": {
            "tags": [],
            "needs_background": "light"
          }
        }
      ]
    },
    {
      "cell_type": "code",
      "metadata": {
        "id": "l0rflbhNFSb5"
      },
      "source": [
        ""
      ],
      "execution_count": 9,
      "outputs": []
    }
  ]
}